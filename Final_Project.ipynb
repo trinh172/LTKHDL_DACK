{
 "cells": [
  {
   "cell_type": "markdown",
   "metadata": {},
   "source": [
    "# LTKHDL - Final Project\n",
    "\n",
    "(Cập nhật lần cuối: 10/1/2022)\n",
    "<h3> Thành viên nhóm: </h3>\n",
    " - Nguyễn Tuấn Anh - 18120110 <br>\n",
    " - Chương Việt Hoàng - 18120124 <br>\n",
    " - Lê Thị Tuyết Trinh - 18120616 <br>\n"
   ]
  },
  {
   "cell_type": "markdown",
   "metadata": {},
   "source": [
    "---"
   ]
  },
  {
   "cell_type": "markdown",
   "metadata": {},
   "source": [
    "## Môi trường code"
   ]
  },
  {
   "cell_type": "code",
   "execution_count": null,
   "metadata": {},
   "outputs": [],
   "source": [
    "import sys\n",
    "sys.executable"
   ]
  },
  {
   "cell_type": "markdown",
   "metadata": {},
   "source": [
    "Nếu không có vấn đề gì thì file chạy python sẽ là file của môi trường code \"min_ds-env\"."
   ]
  },
  {
   "cell_type": "markdown",
   "metadata": {},
   "source": [
    "---"
   ]
  },
  {
   "cell_type": "markdown",
   "metadata": {},
   "source": [
    "## Cài đặt các thư viện cần thiết"
   ]
  },
  {
   "cell_type": "code",
   "execution_count": null,
   "metadata": {},
   "outputs": [],
   "source": [
    "%%capture\n",
    "!pip install underthesea\n",
    "!pip install tqdm\n",
    "!pip install wordcloud"
   ]
  },
  {
   "cell_type": "markdown",
   "metadata": {},
   "source": [
    "## Import các thư viện cần thiết"
   ]
  },
  {
   "cell_type": "code",
   "execution_count": null,
   "metadata": {},
   "outputs": [],
   "source": [
    "import pandas as pd\n",
    "import matplotlib.pyplot as plt\n",
    "import numpy as np\n",
    "from tqdm import tqdm\n",
    "# YOUR CODE HERE (OPTION)\n",
    "from underthesea import word_tokenize\n",
    "import unidecode\n",
    "import string\n",
    "import matplotlib.pyplot as plt\n",
    "from wordcloud import WordCloud\n",
    "import copy"
   ]
  },
  {
   "cell_type": "markdown",
   "metadata": {},
   "source": [
    "---"
   ]
  },
  {
   "cell_type": "markdown",
   "metadata": {},
   "source": [
    "## Thu thập dữ liệu"
   ]
  },
  {
   "cell_type": "markdown",
   "metadata": {},
   "source": [
    "Trong đồ án này, nhóm em sửa dụng dữ liệu đã được thu thập sẵn là file \"review_mbbank.csv\" đính kèm; đây là dữ liệu về đánh giá của người dùng về app MB Bank. Dữ liệu này được crawl từ Google Play và gốc của dữ liệu là [ở đây]()."
   ]
  },
  {
   "cell_type": "markdown",
   "metadata": {},
   "source": [
    "---"
   ]
  },
  {
   "cell_type": "markdown",
   "metadata": {},
   "source": [
    "## Khám phá dữ liệu"
   ]
  },
  {
   "cell_type": "markdown",
   "metadata": {},
   "source": [
    "### Đọc dữ liệu từ file csv vào dataframe"
   ]
  },
  {
   "cell_type": "code",
   "execution_count": null,
   "metadata": {},
   "outputs": [],
   "source": [
    "df_review = pd.read_csv('review_mbbank.csv')\n",
    "df_review"
   ]
  },
  {
   "cell_type": "markdown",
   "metadata": {},
   "source": [
    "### Dữ liệu gồm có bao nhiêu dòng và bao nhiêu cột?"
   ]
  },
  {
   "cell_type": "markdown",
   "metadata": {},
   "source": [
    "Tính số dòng và số cột (không được code cứng con số) và lần lượt lưu vào 2 biến là `num_rows` và `num_cols`. "
   ]
  },
  {
   "cell_type": "code",
   "execution_count": null,
   "metadata": {
    "deletable": false,
    "nbgrader": {
     "cell_type": "code",
     "checksum": "0a03dc9216c2e34b0151074d168e31a3",
     "grade": false,
     "grade_id": "cell-bc8810dbc4930a46",
     "locked": false,
     "schema_version": 3,
     "solution": true,
     "task": false
    }
   },
   "outputs": [],
   "source": [
    "# YOUR CODE HERE\n",
    "num_rows, num_cols = df_review.shape"
   ]
  },
  {
   "cell_type": "markdown",
   "metadata": {},
   "source": [
    "### Mỗi dòng có ý nghĩa gì? Có vấn đề các dòng có ý nghĩa khác nhau không?"
   ]
  },
  {
   "cell_type": "markdown",
   "metadata": {},
   "source": [
    "Đây là dữ liệu được crawl từ bên Google Play về với nội dung là review của khách hàng nên nhóm em nghĩ sẽ có nhiều vấn đề ví dụ như bị trùng lặp dữ liệu, kiểu dữ liệu,..."
   ]
  },
  {
   "cell_type": "markdown",
   "metadata": {},
   "source": [
    "### Dữ liệu có các dòng bị lặp không?"
   ]
  },
  {
   "cell_type": "markdown",
   "metadata": {},
   "source": [
    "Bạn sẽ kiểm tra vụ này và lưu kết quả vào biến `have_duplicated_rows`. Biến này sẽ có giá trị True nếu dữ liệu có các dòng bị lặp và có giá trị False nếu ngược. Gợi ý: dataframe có phương thức `duplicated`."
   ]
  },
  {
   "cell_type": "code",
   "execution_count": null,
   "metadata": {
    "deletable": false,
    "nbgrader": {
     "cell_type": "code",
     "checksum": "14923eae51d859512c15219a5d64f72d",
     "grade": false,
     "grade_id": "cell-facf998546c4dfeb",
     "locked": false,
     "schema_version": 3,
     "solution": true,
     "task": false
    }
   },
   "outputs": [],
   "source": [
    "# YOUR CODE HERE\n",
    "#TODO: Check have_duplicated_rows\n",
    "have_duplicated_rows = df_review.duplicated().any()\n",
    "print(have_duplicated_rows)"
   ]
  },
  {
   "cell_type": "markdown",
   "metadata": {},
   "source": [
    "### Mỗi cột có ý nghĩa gì?"
   ]
  },
  {
   "cell_type": "markdown",
   "metadata": {},
   "source": [
    "Dưới đây là phần mô tả của dữ liệu:\n",
    "- **ID**: a unique identifier for each observation.\n",
    "- **reviewer**: the account's name.\n",
    "- **content**: the content of reviewer.\n",
    "- **date_time**: date the reviewer take review.\n",
    "- **rate**: rating of reviewer for app."
   ]
  },
  {
   "cell_type": "markdown",
   "metadata": {},
   "source": [
    "### Mỗi cột hiện đang có kiểu dữ liệu gì? Có cột nào có kiểu dữ liệu chưa phù hợp để có thể xử lý tiếp không?"
   ]
  },
  {
   "cell_type": "markdown",
   "metadata": {},
   "source": [
    "Nhóm em lấy `dtype` (kiểu dữ liệu của mỗi phần tử) của mỗi cột trong `df_review` và lưu kết quả vào series `col_dtypes`; series này có index là tên cột. "
   ]
  },
  {
   "cell_type": "code",
   "execution_count": null,
   "metadata": {
    "deletable": false,
    "nbgrader": {
     "cell_type": "code",
     "checksum": "96e1fdd8f9e7fa97311e690dcdea495b",
     "grade": false,
     "grade_id": "cell-e7c33d274bed2b0c",
     "locked": false,
     "schema_version": 3,
     "solution": true,
     "task": false
    }
   },
   "outputs": [],
   "source": [
    "# YOUR CODE HERE\n",
    "col_dtypes = df_review.dtypes\n",
    "print(col_dtypes)"
   ]
  },
  {
   "cell_type": "markdown",
   "metadata": {},
   "source": [
    "**Cột có dtype là object nghĩa là sao?**"
   ]
  },
  {
   "cell_type": "markdown",
   "metadata": {},
   "source": [
    "`df_review` có 3 cột có `dtype` là `object`: reviewer, content, date_time\n",
    "Chúng em viết hàm nhận đầu vào là một cột `s` (series) có `dtype` là `object` và trả về tập các kiểu dữ liệu thật sự có trong cột này. (Sử dụng series.apply())"
   ]
  },
  {
   "cell_type": "code",
   "execution_count": null,
   "metadata": {
    "deletable": false,
    "nbgrader": {
     "cell_type": "code",
     "checksum": "584650ddec44ef314602d9923b1d8bac",
     "grade": false,
     "grade_id": "cell-9c4658645a61bd6e",
     "locked": false,
     "schema_version": 3,
     "solution": true,
     "task": false
    }
   },
   "outputs": [],
   "source": [
    "def open_object_dtype(s):\n",
    "    dtypes = set()\n",
    "    # YOUR CODE HERE\n",
    "    col = pd.Series(s)\n",
    "    result = col.apply(lambda x: type(x))\n",
    "    dtypes = set(result)\n",
    "    return dtypes\n",
    "print(open_object_dtype(df_review['reviewer']))\n",
    "print(open_object_dtype(df_review['content']))\n",
    "print(open_object_dtype(df_review['date_time']))"
   ]
  },
  {
   "cell_type": "markdown",
   "metadata": {},
   "source": [
    "**Vấn đề cần tiền xử lý:**\n",
    "\n",
    "- Cột \"date_time\" đang có dtype là `str`. Để có thể tiếp tục khám phá thêm về cột này, ta sẽ thực hiện bước tiền xử lý là chuyển sang dạng `datetime`.\n",
    "- Cột \"content\" đang có dtype là `str`, cần kiểm tra xem có dòng content nào là chuỗi rỗng không (vì đánh giá trên google play người dùng có thể nhập chuỗi gồm các khoảng trắng và submit được).\n",
    "- Cột \"reviewer\" đang có dtype là `str`, có lẽ cột này không có giá trị rỗng nào"
   ]
  },
  {
   "cell_type": "markdown",
   "metadata": {},
   "source": [
    "---"
   ]
  },
  {
   "cell_type": "markdown",
   "metadata": {},
   "source": [
    "## Tiền xử lý"
   ]
  },
  {
   "cell_type": "markdown",
   "metadata": {},
   "source": [
    "### Chuyển dtype của cột \"date_time\" sang datetime (0.5đ)"
   ]
  },
  {
   "cell_type": "markdown",
   "metadata": {},
   "source": [
    "Nhóm em chuyển `dtype` của cột \"date_time\" sang kiểu dữ liệu thời gian (sau khi làm xong thì cột \"date_time\" trong `df_review` phải thay đổi `dtype`). Nhóm em dùng câu lệnh `pd.to_datetime`; khi dùng `pd.to_datetime`, bạn truyền giá trị phù hợp cho tham số `format` (nếu không thì sẽ chạy rất chậm vì Pandas phải đoán format)."
   ]
  },
  {
   "cell_type": "code",
   "execution_count": null,
   "metadata": {
    "deletable": false,
    "nbgrader": {
     "cell_type": "code",
     "checksum": "ddf290b1ea2092ab7a32e6b7921c0406",
     "grade": false,
     "grade_id": "cell-39a0a94d173359e5",
     "locked": false,
     "schema_version": 3,
     "solution": true,
     "task": false
    }
   },
   "outputs": [],
   "source": [
    "# YOUR CODE HERE\n",
    "df_review['date_time'] = pd.to_datetime(df_review['date_time'], format=\"%d-%m-%y %H:%M\")\n",
    "# Nếu dtype của cột \"Date\" đã được chuyển sang datetime thì phải dùng được .dt.\n",
    "assert df_review['date_time'].dt.year.min() == 2021 "
   ]
  },
  {
   "cell_type": "markdown",
   "metadata": {},
   "source": [
    "### Chuyển các giá trị chuỗi trống (chỉ chứa khoảng trắng) sang NaN"
   ]
  },
  {
   "cell_type": "markdown",
   "metadata": {},
   "source": [
    "Nhóm em sẽ chuyển các giá trị trống (nếu có) của cột \"content\" sang NaN, vì thực tế người dùng khi đánh giá app có thể nhập chuỗi trống vào và submit được."
   ]
  },
  {
   "cell_type": "code",
   "execution_count": null,
   "metadata": {
    "deletable": false,
    "nbgrader": {
     "cell_type": "code",
     "checksum": "04e2fbb9a221dd48d795c26dcab9017e",
     "grade": false,
     "grade_id": "cell-82a6fc90114be977",
     "locked": false,
     "schema_version": 3,
     "solution": true,
     "task": false
    }
   },
   "outputs": [],
   "source": [
    "# YOUR CODE HERE (x.isspace() or not x)\n",
    "#replace all string \" \" in column District and CommunityArea\n",
    "df_review['content'] = df_review['content'].replace(r'^\\s+$', np.nan, regex=True)\n",
    "print(df_review['content'].isna().sum())\n"
   ]
  },
  {
   "cell_type": "markdown",
   "metadata": {},
   "source": [
    "Có thể thấy, không có dòng nào trong content là rỗng, bây giờ chúng em sẽ thực hiên khám phá dữ liệu và trả lời câu hỏi có ý nghĩa."
   ]
  },
  {
   "cell_type": "markdown",
   "metadata": {},
   "source": [
    "### Phân tích năm "
   ]
  },
  {
   "cell_type": "code",
   "execution_count": null,
   "metadata": {},
   "outputs": [],
   "source": [
    "# YOUR CODE HERE\n",
    "col_year = df_review['date_time'].dt.year\n",
    "col_year = set(col_year)\n",
    "print(col_year)"
   ]
  },
  {
   "cell_type": "markdown",
   "metadata": {},
   "source": [
    "Em lấy các năm trong thời gian review thì thấy các review này đều được lấy trong năm 2021 vậy nên tạm thời về năm không có nhiều thứ cần khai thác, nên nhóm em sẽ lấy ra các tháng để phân tích sâu hơn."
   ]
  },
  {
   "cell_type": "markdown",
   "metadata": {},
   "source": [
    "### Thêm cột \"Month\" vào dataframe (0.5đ)"
   ]
  },
  {
   "cell_type": "code",
   "execution_count": null,
   "metadata": {},
   "outputs": [],
   "source": [
    "# YOUR CODE HERE\n",
    "df_review['Month'] = df_review['date_time'].dt.month\n",
    "df_review.head()"
   ]
  },
  {
   "cell_type": "markdown",
   "metadata": {},
   "source": [
    "### Tự thêm các điều cần xử lý ở đây"
   ]
  },
  {
   "cell_type": "markdown",
   "metadata": {},
   "source": [
    "Lý giải các điều cần xử lý"
   ]
  },
  {
   "cell_type": "code",
   "execution_count": null,
   "metadata": {
    "deletable": false,
    "nbgrader": {
     "cell_type": "code",
     "checksum": "2268d3a3d5426f2fcdb34418847b7b1f",
     "grade": false,
     "grade_id": "cell-f312e85b9123e0b0",
     "locked": false,
     "schema_version": 3,
     "solution": true,
     "task": false
    }
   },
   "outputs": [],
   "source": []
  },
  {
   "cell_type": "markdown",
   "metadata": {},
   "source": [
    "---"
   ]
  },
  {
   "cell_type": "markdown",
   "metadata": {},
   "source": [
    "## Khám phá dữ liệu "
   ]
  },
  {
   "cell_type": "markdown",
   "metadata": {},
   "source": [
    "### Trong cột rate, số lượng mỗi điểm là bao nhiêu?"
   ]
  },
  {
   "cell_type": "markdown",
   "metadata": {},
   "source": [
    "Cột rate chứa điểm số mà người dùng đánh giá cho app, viết hàm để tính số lượng từng điểm (1 - 5) và vẽ biểu đồ"
   ]
  },
  {
   "cell_type": "code",
   "execution_count": null,
   "metadata": {
    "deletable": false,
    "nbgrader": {
     "cell_type": "code",
     "checksum": "95f164d4ff7a5ee9869dbcc8e0c31d32",
     "grade": false,
     "grade_id": "cell-4c64c2ce1eea9f1d",
     "locked": false,
     "schema_version": 3,
     "solution": true,
     "task": false
    }
   },
   "outputs": [],
   "source": [
    "# YOUR CODE HERE\n",
    "#Hàm để tính min, max, missing_ratio của dfcol được truyền vào\n",
    "rate_count = df_review['rate'].value_counts()\n",
    "rate_count = rate_count.sort_index()\n",
    "print(rate_count)\n",
    "\n",
    "fig = plt.figure()\n",
    "ax = fig.add_axes([0,0,1,1])\n",
    "ax.bar(rate_count.index,rate_count)\n",
    "plt.show()"
   ]
  },
  {
   "cell_type": "markdown",
   "metadata": {},
   "source": [
    "Nhìn biểu đồ có thể thấy số lượt rate 1 sao và 5 sao cho app là chiếm đa số, trong đó app bị rate 1 sao nhiều nhất (6699 người đánh giá 1 sao)."
   ]
  },
  {
   "cell_type": "markdown",
   "metadata": {},
   "source": [
    "### Tự thêm các điều cần khai thác ở đây"
   ]
  },
  {
   "cell_type": "markdown",
   "metadata": {},
   "source": [
    "Lý giải các điều cần khai thác"
   ]
  },
  {
   "cell_type": "code",
   "execution_count": null,
   "metadata": {
    "deletable": false,
    "nbgrader": {
     "cell_type": "code",
     "checksum": "35296018f9eb13360b7c8c16620dd5e7",
     "grade": false,
     "grade_id": "cell-22007ecdcdfa0acc",
     "locked": false,
     "schema_version": 3,
     "solution": true,
     "task": false
    }
   },
   "outputs": [],
   "source": [
    "# YOUR CODE HERE\n"
   ]
  },
  {
   "cell_type": "markdown",
   "metadata": {},
   "source": [
    "---"
   ]
  },
  {
   "cell_type": "markdown",
   "metadata": {},
   "source": [
    "## Đưa ra các câu hỏi cần trả lời"
   ]
  },
  {
   "cell_type": "markdown",
   "metadata": {},
   "source": [
    "Sau khi đã khám phá dữ liệu và hiểu hơn về dữ liệu, ta thấy có một số câu hỏi có thể được trả lời bằng dữ liệu:\n",
    "1. Người ta đánh giá như thế nào về một số tính năng của MB Bank ?<br/>\n",
    "Khi app MB Bank ra một tính năng gì đó chắc chắn sẽ muốn biết nhận xét tổng của khách hàng về tính năng của mình được đánh giá tốt/xấu như thế nào, từ đó sẽ cải thiện tính năng của mình cho thích hợp hơn. Việc tìm ra đánh giá của khách hàng về một số tính năng sẽ giúp cho bên MB Bank nhận ra được các lỗi cần phải sửa và nguyên nhân vì sao app của mình lại bị nhiều rate 1 sao như hiện tại.\n",
    "\n",
    "\n"
   ]
  },
  {
   "cell_type": "markdown",
   "metadata": {},
   "source": [
    "---"
   ]
  },
  {
   "cell_type": "markdown",
   "metadata": {},
   "source": [
    "## Tiền xử lý"
   ]
  },
  {
   "cell_type": "markdown",
   "metadata": {},
   "source": [
    "### Tự thêm các điều cần tiền xử lý"
   ]
  },
  {
   "cell_type": "markdown",
   "metadata": {},
   "source": [
    "Lý giải điều cần tiền xử lý"
   ]
  },
  {
   "cell_type": "code",
   "execution_count": null,
   "metadata": {
    "deletable": false,
    "nbgrader": {
     "cell_type": "code",
     "checksum": "787b5ee9b1bac081bc64c2b0a61da43d",
     "grade": false,
     "grade_id": "cell-b11a3d54448e8905",
     "locked": false,
     "schema_version": 3,
     "solution": true,
     "task": false
    }
   },
   "outputs": [],
   "source": [
    "# YOUR CODE HERE\n"
   ]
  },
  {
   "cell_type": "markdown",
   "metadata": {},
   "source": [
    "---"
   ]
  },
  {
   "cell_type": "markdown",
   "metadata": {},
   "source": [
    "## Phân tích dữ liệu để trả lời cho các câu hỏi "
   ]
  },
  {
   "cell_type": "markdown",
   "metadata": {},
   "source": [
    "### Title -- câu hỏi của Nguyễn Tuấn Anh\n",
    "\n",
    "Để trả lời cho câu hỏi này, bạn sẽ làm như sau:\n",
    "- Bước 1: ...\n",
    "- Bước 2: ..."
   ]
  },
  {
   "cell_type": "markdown",
   "metadata": {},
   "source": [
    "Code bước 1. "
   ]
  },
  {
   "cell_type": "code",
   "execution_count": null,
   "metadata": {
    "deletable": false,
    "nbgrader": {
     "cell_type": "code",
     "checksum": "05fec7cb772d08bedb6ec735494daabf",
     "grade": false,
     "grade_id": "cell-ca92bcde951cbcd9",
     "locked": false,
     "schema_version": 3,
     "solution": true,
     "task": false
    }
   },
   "outputs": [],
   "source": [
    "# YOUR CODE HERE\n"
   ]
  },
  {
   "cell_type": "markdown",
   "metadata": {},
   "source": [
    "Code bước 2. "
   ]
  },
  {
   "cell_type": "code",
   "execution_count": null,
   "metadata": {
    "deletable": false,
    "nbgrader": {
     "cell_type": "code",
     "checksum": "f0c5966c75e665325d83f45dd5fcc9a9",
     "grade": true,
     "grade_id": "cell-c3f22e75a64dab00",
     "locked": false,
     "points": 0.25,
     "schema_version": 3,
     "solution": true,
     "task": false
    }
   },
   "outputs": [],
   "source": [
    "# YOUR CODE HERE\n"
   ]
  },
  {
   "cell_type": "markdown",
   "metadata": {},
   "source": [
    "Nhận xét: ..."
   ]
  },
  {
   "cell_type": "markdown",
   "metadata": {},
   "source": [
    "### Title -- câu hỏi của Chương Việt Hoàng\n",
    "\n",
    "Để trả lời cho câu hỏi này, bạn sẽ làm như sau:\n",
    "- Bước 1: ...\n",
    "- Bước 2: ..."
   ]
  },
  {
   "cell_type": "markdown",
   "metadata": {},
   "source": [
    "Code bước 1. "
   ]
  },
  {
   "cell_type": "code",
   "execution_count": null,
   "metadata": {
    "deletable": false,
    "nbgrader": {
     "cell_type": "code",
     "checksum": "b4716751342c988dcc4536b763d16cd5",
     "grade": false,
     "grade_id": "cell-129a07978e3c0de1",
     "locked": false,
     "schema_version": 3,
     "solution": true,
     "task": false
    }
   },
   "outputs": [],
   "source": [
    "# YOUR CODE HERE\n"
   ]
  },
  {
   "cell_type": "markdown",
   "metadata": {},
   "source": [
    "Nhận xét: "
   ]
  },
  {
   "cell_type": "markdown",
   "metadata": {
    "deletable": false,
    "nbgrader": {
     "cell_type": "markdown",
     "checksum": "f21cea3600714c64427a488015695010",
     "grade": true,
     "grade_id": "cell-d91e2d8fd4045ebb",
     "locked": false,
     "points": 0.25,
     "schema_version": 3,
     "solution": true,
     "task": false
    }
   },
   "source": [
    "Code bước 2."
   ]
  },
  {
   "cell_type": "code",
   "execution_count": null,
   "metadata": {},
   "outputs": [],
   "source": [
    "# YOUR CODE HERE"
   ]
  },
  {
   "cell_type": "code",
   "execution_count": null,
   "metadata": {
    "deletable": false,
    "nbgrader": {
     "cell_type": "code",
     "checksum": "5cd5cba0a2fddc31f015a38d3f8fe44e",
     "grade": false,
     "grade_id": "cell-7ef114a2b6ffaad2",
     "locked": false,
     "schema_version": 3,
     "solution": true,
     "task": false
    }
   },
   "outputs": [],
   "source": []
  },
  {
   "cell_type": "code",
   "execution_count": null,
   "metadata": {
    "deletable": false,
    "nbgrader": {
     "cell_type": "code",
     "checksum": "1ccfcbae3d8afb90cf3d8aeba2e7e46d",
     "grade": false,
     "grade_id": "cell-9f05d5d157d6c417",
     "locked": false,
     "schema_version": 3,
     "solution": true,
     "task": false
    }
   },
   "outputs": [],
   "source": []
  },
  {
   "cell_type": "markdown",
   "metadata": {},
   "source": [
    "### Tìm hiểu đánh giá của người dùng về một số tính năng ? -- câu hỏi của Lê Thị Tuyết Trinh\n",
    "\n",
    "Để trả lời cho câu hỏi này, bạn sẽ làm như sau:\n",
    "- Bước 1: Chuyển hết các content sang dạng chữ thường (lower)\n",
    "- Bước 2: Liệt kê danh sách các cách viết tên tính năng mà người dùng có thể viết review (ví dụ tính năng 'đăng ký' có thể được người dùng viết là 'đăng kí', 'đk', 'dk',...)\n",
    "- Bước 3: Lọc ra các content có chứa từ khóa (tên tính năng) tìm thấy ở bước 1\n",
    "- Bước 4: Thực hiện đếm số lượng theo rating và vẽ biểu đồ"
   ]
  },
  {
   "cell_type": "markdown",
   "metadata": {},
   "source": [
    "Code bước 1. "
   ]
  },
  {
   "cell_type": "code",
   "execution_count": null,
   "metadata": {
    "deletable": false,
    "nbgrader": {
     "cell_type": "code",
     "checksum": "5ae6b11e2939994396ea81a514e5100e",
     "grade": false,
     "grade_id": "cell-8199894515a93739",
     "locked": false,
     "schema_version": 3,
     "solution": true,
     "task": false
    }
   },
   "outputs": [],
   "source": [
    "# YOUR CODE HERE\n",
    "#Chuyển hết content sang dạng chữ thường\n",
    "df_clone = copy.deepcopy(df_review)\n",
    "df_clone['content'] = df_clone['content'].str.lower()"
   ]
  },
  {
   "cell_type": "markdown",
   "metadata": {},
   "source": [
    "Code bước 2. "
   ]
  },
  {
   "cell_type": "code",
   "execution_count": null,
   "metadata": {
    "deletable": false,
    "nbgrader": {
     "cell_type": "code",
     "checksum": "1c9d18a5ba82268dffbece405ddd2fac",
     "grade": true,
     "grade_id": "cell-443fcd8b92392f58",
     "locked": false,
     "points": 0.25,
     "schema_version": 3,
     "solution": true,
     "task": false
    }
   },
   "outputs": [],
   "source": [
    "# YOUR CODE HERE\n",
    "list_char = ['i','ì','í','ị','ỉ','y','ỳ','ý','ỵ','ỷ']\n",
    "#Liệt kê danh sách các cách viết tên tính năng\n",
    "def generateFeatureName(name):\n",
    "    list_name = [name];\n",
    "    list_name.append(unidecode.unidecode(name))\n",
    "    list_split = name.split();\n",
    "    last_char = name[len(name)-1]\n",
    "    if(len(list_split) > 1):\n",
    "        first_char = list_split[0][0]\n",
    "        list_name.append(first_char+list_split[1])\n",
    "        list_name.append(first_char+unidecode.unidecode(list_split[1]))\n",
    "        list_name.append(unidecode.unidecode(first_char)+unidecode.unidecode(list_split[1]))\n",
    "        list_name.append(first_char+list_split[1][0])\n",
    "        list_name.append(first_char+unidecode.unidecode(list_split[1][0]))\n",
    "        list_name.append(unidecode.unidecode(first_char)+unidecode.unidecode(list_split[1][0]))\n",
    "        list_name.append(unidecode.unidecode(first_char)+list_split[1][0])\n",
    "    if(unidecode.unidecode(last_char) == 'i' or unidecode.unidecode(last_char) == 'i'):\n",
    "        index_ofi = list_char.index(name[len(name)-1]);\n",
    "        if(list_char.index(name[len(name)-1])<5):\n",
    "            namei = copy.deepcopy(name);\n",
    "            name_new = namei[0:(len(namei) - 1)] + list_char[index_ofi+5]\n",
    "            list_name.append(name_new)\n",
    "            list_name.append(unidecode.unidecode(name_new))\n",
    "            list_split = name_new.split();\n",
    "            last_char = name_new[len(name_new)-1]\n",
    "            if(len(list_split) > 1):\n",
    "                first_char = list_split[0][0]\n",
    "                list_name.append(first_char+list_split[1])\n",
    "                list_name.append(first_char+unidecode.unidecode(list_split[1]))\n",
    "                list_name.append(unidecode.unidecode(first_char)+unidecode.unidecode(list_split[1]))\n",
    "        if(list_char.index(name[len(name)-1])>=5):\n",
    "            namei = copy.deepcopy(name);\n",
    "            name_new = namei[0:(len(namei) - 1)] + list_char[index_ofi-5]\n",
    "            list_name.append(name_new)\n",
    "            list_name.append(unidecode.unidecode(name_new))\n",
    "            list_split = name_new.split();\n",
    "            last_char = name_new[len(name_new)-1]\n",
    "            if(len(list_split) > 1):\n",
    "                first_char = list_split[0][0]\n",
    "                list_name.append(first_char+list_split[1])\n",
    "                list_name.append(first_char+unidecode.unidecode(list_split[1]))\n",
    "                list_name.append(unidecode.unidecode(first_char)+unidecode.unidecode(list_split[1]))\n",
    "    return set(list_name)\n",
    "\n",
    "list_otp = generateFeatureName('otp')\n",
    "list_dk = generateFeatureName('đăng kí')\n",
    "list_gt = generateFeatureName('giới thiệu')\n",
    "list_cn = generateFeatureName('cập nhật')\n",
    "list_dn = generateFeatureName('đăng nhập')\n",
    "list_ct = generateFeatureName('chuyển tiền')"
   ]
  },
  {
   "cell_type": "markdown",
   "metadata": {},
   "source": [
    "Code bước 3. "
   ]
  },
  {
   "cell_type": "code",
   "execution_count": null,
   "metadata": {},
   "outputs": [],
   "source": [
    "#Lọc các content chứa từ khóa\n",
    "def filterConstrainKeyword(list_keyword):\n",
    "    df_result = pd.DataFrame()\n",
    "    for keyword in list_keyword:\n",
    "        df_filter = df_clone[df_clone['content'].str.contains(keyword, regex=False)]\n",
    "        df_result = df_result.append(df_filter)\n",
    "    df_result = df_result.drop_duplicates()\n",
    "    return df_result\n",
    "\n",
    "df_filter_dk = filterConstrainKeyword(list_dk)\n",
    "df_filter_dn = filterConstrainKeyword(list_dn)\n",
    "df_filter_gt = filterConstrainKeyword(list_gt)\n",
    "df_filter_otp = filterConstrainKeyword(list_otp)\n",
    "df_filter_cn = filterConstrainKeyword(list_cn)\n",
    "df_filter_ct = filterConstrainKeyword(list_ct)"
   ]
  },
  {
   "cell_type": "markdown",
   "metadata": {},
   "source": [
    "Code bước 4 : Vẽ biểu đồ theo rate "
   ]
  },
  {
   "cell_type": "code",
   "execution_count": null,
   "metadata": {},
   "outputs": [],
   "source": [
    "fig, ((ax1, ax2), (ax3, ax4), (ax5,ax6)) = plt.subplots(3, 2)\n",
    "\n",
    "rate_count = df_filter_dk['rate'].value_counts()\n",
    "rate_count = rate_count.sort_index()\n",
    "ax1.bar(rate_count.index,rate_count)\n",
    "ax1.set_title('Đăng kí')\n",
    "\n",
    "rate_count = df_filter_dn['rate'].value_counts()\n",
    "rate_count = rate_count.sort_index()\n",
    "ax2.bar(rate_count.index,rate_count)\n",
    "ax2.set_title('Đăng nhập')\n",
    "\n",
    "rate_count = df_filter_otp['rate'].value_counts()\n",
    "rate_count = rate_count.sort_index()\n",
    "ax3.bar(rate_count.index,rate_count)\n",
    "ax3.set_title('OTP')\n",
    "\n",
    "rate_count = df_filter_gt['rate'].value_counts()\n",
    "rate_count = rate_count.sort_index()\n",
    "ax4.bar(rate_count.index,rate_count)\n",
    "ax4.set_title('Giới thiệu')\n",
    "\n",
    "rate_count = df_filter_cn['rate'].value_counts()\n",
    "rate_count = rate_count.sort_index()\n",
    "ax5.bar(rate_count.index,rate_count)\n",
    "ax5.set_title('Cập nhật')\n",
    "\n",
    "rate_count = df_filter_ct['rate'].value_counts()\n",
    "rate_count = rate_count.sort_index()\n",
    "ax6.bar(rate_count.index,rate_count)\n",
    "ax6.set_title('Chuyển tiền')\n",
    "#Set Spacing\n",
    "plt.subplots_adjust(left=0.1,\n",
    "                    bottom=0.1, \n",
    "                    right=0.9, \n",
    "                    top=1.1, \n",
    "                    wspace=0.5, \n",
    "                    hspace=0.5)\n",
    "plt.show()"
   ]
  },
  {
   "cell_type": "markdown",
   "metadata": {},
   "source": [
    "**Nhận xét**: Em thực hiện khảo sát đánh giá của các bình luận có nhắc đến \"đăng ký\", \"otp\", \"giới thiệu\", \"cập nhật\" và nhận thấy các bình luận này đa số là đánh giá 1 sao.\n",
    "- **Đăng kí**: đây là tính năng quan trọng nhất của mọi app vì tính năng này sẽ là tính năng đầu tiên mà người dùng mới tiếp cận vào 1 app, có ảnh hưởng cao đến việc user có tiếp tục với app của mình không, vậy nên với 1000 bài review nhắc về đăng kí là phàn nàn (đánh giá 1 sao) thì em nghĩ MB Bank cần xem xét về tính năng này của họ để cải thiện cảm nhận của người dùng về app của mình\n",
    "- **Đăng nhập**: có khoảng hơn 500 bài review nhắc về đăng nhập đánh giá 1 sao thì em nghĩ MB Bank cần kiểm thử lại tính năng đăng nhập của app\n",
    "- **OTP**: là một bước để người dùng xác thực khi đăng kí, với khoảng gần 400 lượt rate 1 sao (chiếm khoảng hơn 80%) có nhắc tới OTP, em nghĩ đây là 1 phần nguyên nhân mà người dùng rate 1 sao nhiều ở tính năng đăng kí bên trên, MB Bank có thể suy nghĩ về việc cải thiện tính năng đăng kí với việc xem xét lại OTP\n",
    "- **Giới thiệu**: là tính năng mới của MB Bank tạo ra để mở rộng độ phổ biến của app, khi 1 người dùng giới thiệu thành công cho người khác sẽ được tặng tiền vào tài khoản. Vậy nhưng có khoảng 300 review nhắc tới \"giới thiệu\" với hơn 200 review đánh 1 sao, phải chăng người dùng đã giới thiệu cho bạn bè nhưng không được cộng tiền? Đây cũng là 1 bug mà MB Bank cần xem xét và fix bug để người dùng có thêm động lực giới thiệu nhiều bạn bè khác :D, bên cạnh đó cũng có 1 lượng người đánh giá 5 sao cho tính năng này (tỉ lệ cao hơn các tính năng đăng kí, OTP), cho thấy tính năng mới này được hưởng ứng, nên MB Bank cần xem xét fix bug được kể trên\n",
    "- **Cập nhật**: Các app đều có các đợt cập nhật để thêm tính năng mới hoặc fix bug, nhưng khoảng hơn 250 lượt đánh giá 1 sao có nhắc tới cập nhật, có lẽ sau mỗi đợt cập nhật app có 1 số bug khiến người dùng khó chịu mà MB Bank cần đọc các review này để xem lỗi nào để các lần cập nhật sau không bị lại\n",
    "- **Chuyển tiền**: Vì đây là 1 app của ngân hàng nên vấn đề chuyển tiền là rất quan trọng, cần giảm số lượng bug liên quan đến chuyển tiền đến mức thấp nhất có thể, nhưng ở đây em đang thấy với khoảng 300 lượt vote 1 sao có nhắc đến chuyển tiền... hmm có vẻ nhóm IT cần cải thiện tính năng này càng sớm càng tốt"
   ]
  },
  {
   "cell_type": "code",
   "execution_count": null,
   "metadata": {},
   "outputs": [],
   "source": []
  }
 ],
 "metadata": {
  "kernelspec": {
   "display_name": "Python 3 (ipykernel)",
   "language": "python",
   "name": "python3"
  },
  "language_info": {
   "codemirror_mode": {
    "name": "ipython",
    "version": 3
   },
   "file_extension": ".py",
   "mimetype": "text/x-python",
   "name": "python",
   "nbconvert_exporter": "python",
   "pygments_lexer": "ipython3",
   "version": "3.8.8"
  },
  "toc": {
   "base_numbering": 1,
   "nav_menu": {},
   "number_sections": false,
   "sideBar": true,
   "skip_h1_title": false,
   "title_cell": "Table of Contents",
   "title_sidebar": "Contents",
   "toc_cell": false,
   "toc_position": {
    "height": "calc(100% - 180px)",
    "left": "10px",
    "top": "150px",
    "width": "240px"
   },
   "toc_section_display": true,
   "toc_window_display": true
  }
 },
 "nbformat": 4,
 "nbformat_minor": 4
}
